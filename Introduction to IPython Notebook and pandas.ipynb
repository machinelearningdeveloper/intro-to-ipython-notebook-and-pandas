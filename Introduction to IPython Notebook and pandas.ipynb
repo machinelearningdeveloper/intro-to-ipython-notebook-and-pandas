{
 "metadata": {
  "name": "Introduction to IPython Notebook and pandas.ipynb"
 },
 "nbformat": 3,
 "nbformat_minor": 0,
 "worksheets": [
  {
   "cells": [
    {
     "cell_type": "markdown",
     "metadata": {},
     "source": [
      "Introduction to IPython Notebook and pandas\n",
      "==========================================="
     ]
    },
    {
     "cell_type": "markdown",
     "metadata": {},
     "source": [
      "IPython Notebook\n",
      "----------------\n",
      "The [IPython project](http://ipython.org) provides a number of enhancements to Python, including tools for interactive and parallel computing.  One such tool for interactive computing is the IPython Notebook.  An IPython notebook is a browser-based, interactive Python interpreter well suited to prototyping, debugging, and annotating Python programs.\n",
      "\n",
      "By placing content in different kinds of \"cells,\" developers can interpolate attractively formatted prose, code, program output, charts, and other graphics.  Plain text cells present data as text with no additional processing or formatting.  Markdown cells format content using markdown.  Finally, code cells contain Python code that can be run by a backend kernel, the output of which can be displayed in the notebook.  Additional formats, such as HTML and LaTeX, can be used from code cells.\n",
      "\n",
      "This post was composed in an IPython notebook and largely consists of short descriptions, code, and program output.  IPython Notebook's versatility and capable-yet-unobtrusive interface make it easy to develop presentations like this--no editing in separate word processing software was necessary to achieve the final result.\n",
      "\n",
      "---\n",
      "\n",
      "pandas\n",
      "------\n",
      "Pandas, a part of the [SciPy](http://scipy.org) stack, which is a group of packages for scientific computing in Python, provides routines for querying and transforming sets of data.  A good description of pandas comes from [http://pandas.pydata.org/](http://pandas.pydata.org/):\n",
      ">- A fast and efficient **DataFrame** object for data manipulation with integrated indexing;\n",
      "- Tools for **reading and writing data** between in-memory data structures and different formats: CSV and text files, Microsoft Excel, SQL databases, and the fast HDF5 format;\n",
      "- Intelligent **data alignment** and integrated handling of **missing data**: gain automatic label-based alignment in computations and easily manipulate messy data into an orderly form;\n",
      "- Flexible **reshaping** and pivoting of data sets;\n",
      "- Intelligent label-based **slicing**, **fancy indexing**, and **subsetting** of large data sets;\n",
      "- Columns can be inserted and deleted from data structures for **size mutability**;\n",
      "- Aggregating or transforming data with a powerful **group by** engine allowing split-apply-combine operations on data sets;\n",
      "- High performance **merging and joining** of data sets;\n",
      "- **Hierarchical axis indexing** provides an intuitive way of working with high-dimensional data in a lower-dimensional data structure;\n",
      "- **Time series**-functionality: date range generation and frequency conversion, moving window statistics, moving window linear regressions, date shifting and lagging. Even create domain-specific time offsets and join time series without losing data;\n",
      "- Highly **optimized for performance**, with critical code paths written in Cython or C.\n",
      "- Python with pandas is in use in a wide variety of **academic and commercial** domains, including Finance, Neuroscience, Economics, Statistics, Advertising, Web Analytics, and more.\n",
      "\n",
      "Here we will explore some of the basic\u00a0operations on pandas dataframe objects (class pandas.core.frame.DataFrame), including how to create, read, and write dataframes; how to query\u00a0a dataframe; and how to add/remove/transform data to/from/in a dataframe."
     ]
    },
    {
     "cell_type": "markdown",
     "metadata": {},
     "source": [
      "Import pandas\n",
      "-------------"
     ]
    },
    {
     "cell_type": "code",
     "collapsed": false,
     "input": [
      "import pandas as pd"
     ],
     "language": "python",
     "metadata": {},
     "outputs": [],
     "prompt_number": 1
    },
    {
     "cell_type": "markdown",
     "metadata": {},
     "source": [
      "Create a dataframe\n",
      "------------------"
     ]
    },
    {
     "cell_type": "markdown",
     "metadata": {},
     "source": [
      "Later we will see how to load data from text files, but dataframes can also be created *de novo* from standard Python lists:"
     ]
    },
    {
     "cell_type": "code",
     "collapsed": false,
     "input": [
      "ids    = [ 1,  2,  3,  4,  5, 6]\n",
      "ages   = [30, 25, 90, 4, 40, 25]\n",
      "sexes  = [ 1,  2,  2, 2,  1,  2]\n",
      "example_data = pd.DataFrame(data=zip(ids, ages, sexes), columns=['RID', 'Age', 'Sex'])"
     ],
     "language": "python",
     "metadata": {},
     "outputs": [],
     "prompt_number": 2
    },
    {
     "cell_type": "markdown",
     "metadata": {},
     "source": [
      "Demographic variables such as age and sex are typical of the kind of data processed at the [Minnesota Population Center](http://www.pop.umn.edu)."
     ]
    },
    {
     "cell_type": "markdown",
     "metadata": {},
     "source": [
      "Query the data\n",
      "--------------"
     ]
    },
    {
     "cell_type": "markdown",
     "metadata": {},
     "source": [
      "The notebook automatically emits the results of the last expression in each executed code cell, which makes the inspection of values easy to accomplish without additional code.  Pandas dataframes are represented as tables in the notebook.  The following code cells and their output show how to query a dataframe, both to inspect the data it contains and to reveal bookkeeping or metadata information about the dataframe object itself, for example, to learn the names of the fields/variables/columns defined by the dataframe.\n",
      "\n",
      "First, show the data by typing out the name of the dataframe.  Only a subset of rows will be shown if the dataframe is large:"
     ]
    },
    {
     "cell_type": "code",
     "collapsed": false,
     "input": [
      "example_data"
     ],
     "language": "python",
     "metadata": {},
     "outputs": [
      {
       "html": [
        "<div style=\"max-height:1000px;max-width:1500px;overflow:auto;\">\n",
        "<table border=\"1\" class=\"dataframe\">\n",
        "  <thead>\n",
        "    <tr style=\"text-align: right;\">\n",
        "      <th></th>\n",
        "      <th>RID</th>\n",
        "      <th>Age</th>\n",
        "      <th>Sex</th>\n",
        "    </tr>\n",
        "  </thead>\n",
        "  <tbody>\n",
        "    <tr>\n",
        "      <th>0</th>\n",
        "      <td> 1</td>\n",
        "      <td> 30</td>\n",
        "      <td> 1</td>\n",
        "    </tr>\n",
        "    <tr>\n",
        "      <th>1</th>\n",
        "      <td> 2</td>\n",
        "      <td> 25</td>\n",
        "      <td> 2</td>\n",
        "    </tr>\n",
        "    <tr>\n",
        "      <th>2</th>\n",
        "      <td> 3</td>\n",
        "      <td> 90</td>\n",
        "      <td> 2</td>\n",
        "    </tr>\n",
        "    <tr>\n",
        "      <th>3</th>\n",
        "      <td> 4</td>\n",
        "      <td>  4</td>\n",
        "      <td> 2</td>\n",
        "    </tr>\n",
        "    <tr>\n",
        "      <th>4</th>\n",
        "      <td> 5</td>\n",
        "      <td> 40</td>\n",
        "      <td> 1</td>\n",
        "    </tr>\n",
        "    <tr>\n",
        "      <th>5</th>\n",
        "      <td> 6</td>\n",
        "      <td> 25</td>\n",
        "      <td> 2</td>\n",
        "    </tr>\n",
        "  </tbody>\n",
        "</table>\n",
        "</div>"
       ],
       "metadata": {},
       "output_type": "pyout",
       "prompt_number": 3,
       "text": [
        "   RID  Age  Sex\n",
        "0    1   30    1\n",
        "1    2   25    2\n",
        "2    3   90    2\n",
        "3    4    4    2\n",
        "4    5   40    1\n",
        "5    6   25    2"
       ]
      }
     ],
     "prompt_number": 3
    },
    {
     "cell_type": "markdown",
     "metadata": {},
     "source": [
      "The standard len function can be applied to determine the number of records/rows in a dataframe:"
     ]
    },
    {
     "cell_type": "code",
     "collapsed": false,
     "input": [
      "len(example_data)"
     ],
     "language": "python",
     "metadata": {},
     "outputs": [
      {
       "metadata": {},
       "output_type": "pyout",
       "prompt_number": 4,
       "text": [
        "6"
       ]
      }
     ],
     "prompt_number": 4
    },
    {
     "cell_type": "markdown",
     "metadata": {},
     "source": [
      "Inspect the column names:"
     ]
    },
    {
     "cell_type": "code",
     "collapsed": false,
     "input": [
      "example_data.columns"
     ],
     "language": "python",
     "metadata": {},
     "outputs": [
      {
       "metadata": {},
       "output_type": "pyout",
       "prompt_number": 5,
       "text": [
        "Index([u'RID', u'Age', u'Sex'], dtype='object')"
       ]
      }
     ],
     "prompt_number": 5
    },
    {
     "cell_type": "markdown",
     "metadata": {},
     "source": [
      "Examine the index:"
     ]
    },
    {
     "cell_type": "code",
     "collapsed": false,
     "input": [
      "example_data.index"
     ],
     "language": "python",
     "metadata": {},
     "outputs": [
      {
       "metadata": {},
       "output_type": "pyout",
       "prompt_number": 6,
       "text": [
        "Int64Index([0, 1, 2, 3, 4, 5], dtype='int64')"
       ]
      }
     ],
     "prompt_number": 6
    },
    {
     "cell_type": "markdown",
     "metadata": {},
     "source": [
      "Check the types assigned to columns:"
     ]
    },
    {
     "cell_type": "code",
     "collapsed": false,
     "input": [
      "example_data.dtypes"
     ],
     "language": "python",
     "metadata": {},
     "outputs": [
      {
       "metadata": {},
       "output_type": "pyout",
       "prompt_number": 7,
       "text": [
        "RID    int64\n",
        "Age    int64\n",
        "Sex    int64\n",
        "dtype: object"
       ]
      }
     ],
     "prompt_number": 7
    },
    {
     "cell_type": "markdown",
     "metadata": {},
     "source": [
      "Index into the DataFrame by (i)ndex (loc)ation:"
     ]
    },
    {
     "cell_type": "code",
     "collapsed": false,
     "input": [
      "example_data.iloc[0]"
     ],
     "language": "python",
     "metadata": {},
     "outputs": [
      {
       "metadata": {},
       "output_type": "pyout",
       "prompt_number": 8,
       "text": [
        "RID     1\n",
        "Age    30\n",
        "Sex     1\n",
        "Name: 0, dtype: int64"
       ]
      }
     ],
     "prompt_number": 8
    },
    {
     "cell_type": "markdown",
     "metadata": {},
     "source": [
      "Get the values of a column/variable:"
     ]
    },
    {
     "cell_type": "code",
     "collapsed": false,
     "input": [
      "example_data['Age'].values"
     ],
     "language": "python",
     "metadata": {},
     "outputs": [
      {
       "metadata": {},
       "output_type": "pyout",
       "prompt_number": 9,
       "text": [
        "array([30, 25, 90,  4, 40, 25])"
       ]
      }
     ],
     "prompt_number": 9
    },
    {
     "cell_type": "markdown",
     "metadata": {},
     "source": [
      "Count records by Age--the first column of the result is the age, the second column of the result shows how many rows in the dataframe have each age:"
     ]
    },
    {
     "cell_type": "code",
     "collapsed": false,
     "input": [
      "example_data['Age'].value_counts()"
     ],
     "language": "python",
     "metadata": {},
     "outputs": [
      {
       "metadata": {},
       "output_type": "pyout",
       "prompt_number": 10,
       "text": [
        "25    2\n",
        "30    1\n",
        "4     1\n",
        "90    1\n",
        "40    1\n",
        "dtype: int64"
       ]
      }
     ],
     "prompt_number": 10
    },
    {
     "cell_type": "markdown",
     "metadata": {},
     "source": [
      "Get a slice of the dataframe:"
     ]
    },
    {
     "cell_type": "code",
     "collapsed": false,
     "input": [
      "example_data[1:4]"
     ],
     "language": "python",
     "metadata": {},
     "outputs": [
      {
       "html": [
        "<div style=\"max-height:1000px;max-width:1500px;overflow:auto;\">\n",
        "<table border=\"1\" class=\"dataframe\">\n",
        "  <thead>\n",
        "    <tr style=\"text-align: right;\">\n",
        "      <th></th>\n",
        "      <th>RID</th>\n",
        "      <th>Age</th>\n",
        "      <th>Sex</th>\n",
        "    </tr>\n",
        "  </thead>\n",
        "  <tbody>\n",
        "    <tr>\n",
        "      <th>1</th>\n",
        "      <td> 2</td>\n",
        "      <td> 25</td>\n",
        "      <td> 2</td>\n",
        "    </tr>\n",
        "    <tr>\n",
        "      <th>2</th>\n",
        "      <td> 3</td>\n",
        "      <td> 90</td>\n",
        "      <td> 2</td>\n",
        "    </tr>\n",
        "    <tr>\n",
        "      <th>3</th>\n",
        "      <td> 4</td>\n",
        "      <td>  4</td>\n",
        "      <td> 2</td>\n",
        "    </tr>\n",
        "  </tbody>\n",
        "</table>\n",
        "</div>"
       ],
       "metadata": {},
       "output_type": "pyout",
       "prompt_number": 11,
       "text": [
        "   RID  Age  Sex\n",
        "1    2   25    2\n",
        "2    3   90    2\n",
        "3    4    4    2"
       ]
      }
     ],
     "prompt_number": 11
    },
    {
     "cell_type": "markdown",
     "metadata": {},
     "source": [
      "Get a subset of the dataframe columns:"
     ]
    },
    {
     "cell_type": "code",
     "collapsed": false,
     "input": [
      "example_data[['RID', 'Age']]"
     ],
     "language": "python",
     "metadata": {},
     "outputs": [
      {
       "html": [
        "<div style=\"max-height:1000px;max-width:1500px;overflow:auto;\">\n",
        "<table border=\"1\" class=\"dataframe\">\n",
        "  <thead>\n",
        "    <tr style=\"text-align: right;\">\n",
        "      <th></th>\n",
        "      <th>RID</th>\n",
        "      <th>Age</th>\n",
        "    </tr>\n",
        "  </thead>\n",
        "  <tbody>\n",
        "    <tr>\n",
        "      <th>0</th>\n",
        "      <td> 1</td>\n",
        "      <td> 30</td>\n",
        "    </tr>\n",
        "    <tr>\n",
        "      <th>1</th>\n",
        "      <td> 2</td>\n",
        "      <td> 25</td>\n",
        "    </tr>\n",
        "    <tr>\n",
        "      <th>2</th>\n",
        "      <td> 3</td>\n",
        "      <td> 90</td>\n",
        "    </tr>\n",
        "    <tr>\n",
        "      <th>3</th>\n",
        "      <td> 4</td>\n",
        "      <td>  4</td>\n",
        "    </tr>\n",
        "    <tr>\n",
        "      <th>4</th>\n",
        "      <td> 5</td>\n",
        "      <td> 40</td>\n",
        "    </tr>\n",
        "    <tr>\n",
        "      <th>5</th>\n",
        "      <td> 6</td>\n",
        "      <td> 25</td>\n",
        "    </tr>\n",
        "  </tbody>\n",
        "</table>\n",
        "</div>"
       ],
       "metadata": {},
       "output_type": "pyout",
       "prompt_number": 12,
       "text": [
        "   RID  Age\n",
        "0    1   30\n",
        "1    2   25\n",
        "2    3   90\n",
        "3    4    4\n",
        "4    5   40\n",
        "5    6   25"
       ]
      }
     ],
     "prompt_number": 12
    },
    {
     "cell_type": "markdown",
     "metadata": {},
     "source": [
      "Select data by criteria.  We want results for an expression having the same semantics as the following SQL statement:\n",
      "\n",
      "`SELECT * FROM example_data WHERE Sex = 1;`\n",
      "\n",
      "First, construct an expression implementing the desired logic and test it:"
     ]
    },
    {
     "cell_type": "code",
     "collapsed": false,
     "input": [
      "example_data['Sex'] == 1"
     ],
     "language": "python",
     "metadata": {},
     "outputs": [
      {
       "metadata": {},
       "output_type": "pyout",
       "prompt_number": 13,
       "text": [
        "0     True\n",
        "1    False\n",
        "2    False\n",
        "3    False\n",
        "4     True\n",
        "5    False\n",
        "Name: Sex, dtype: bool"
       ]
      }
     ],
     "prompt_number": 13
    },
    {
     "cell_type": "markdown",
     "metadata": {},
     "source": [
      "The result is a series of True/False (boolean) values.  A series of boolean values can be used to index into a dataframe:"
     ]
    },
    {
     "cell_type": "code",
     "collapsed": false,
     "input": [
      "example_data[example_data['Sex'] == 1]"
     ],
     "language": "python",
     "metadata": {},
     "outputs": [
      {
       "html": [
        "<div style=\"max-height:1000px;max-width:1500px;overflow:auto;\">\n",
        "<table border=\"1\" class=\"dataframe\">\n",
        "  <thead>\n",
        "    <tr style=\"text-align: right;\">\n",
        "      <th></th>\n",
        "      <th>RID</th>\n",
        "      <th>Age</th>\n",
        "      <th>Sex</th>\n",
        "    </tr>\n",
        "  </thead>\n",
        "  <tbody>\n",
        "    <tr>\n",
        "      <th>0</th>\n",
        "      <td> 1</td>\n",
        "      <td> 30</td>\n",
        "      <td> 1</td>\n",
        "    </tr>\n",
        "    <tr>\n",
        "      <th>4</th>\n",
        "      <td> 5</td>\n",
        "      <td> 40</td>\n",
        "      <td> 1</td>\n",
        "    </tr>\n",
        "  </tbody>\n",
        "</table>\n",
        "</div>"
       ],
       "metadata": {},
       "output_type": "pyout",
       "prompt_number": 14,
       "text": [
        "   RID  Age  Sex\n",
        "0    1   30    1\n",
        "4    5   40    1"
       ]
      }
     ],
     "prompt_number": 14
    },
    {
     "cell_type": "markdown",
     "metadata": {},
     "source": [
      "The result is a subset of the original dataframe containing only those records where sex is 1."
     ]
    },
    {
     "cell_type": "markdown",
     "metadata": {},
     "source": [
      "Modifying data frames\n",
      "---------------------"
     ]
    },
    {
     "cell_type": "markdown",
     "metadata": {},
     "source": [
      "Adding and removing data are fundamental data processing tasks.  For example, you can append a row of data to a dataframe:"
     ]
    },
    {
     "cell_type": "code",
     "collapsed": false,
     "input": [
      "example_data.append({'Age':8, 'RID':12, 'Sex':2}, ignore_index=True)"
     ],
     "language": "python",
     "metadata": {},
     "outputs": [
      {
       "html": [
        "<div style=\"max-height:1000px;max-width:1500px;overflow:auto;\">\n",
        "<table border=\"1\" class=\"dataframe\">\n",
        "  <thead>\n",
        "    <tr style=\"text-align: right;\">\n",
        "      <th></th>\n",
        "      <th>RID</th>\n",
        "      <th>Age</th>\n",
        "      <th>Sex</th>\n",
        "    </tr>\n",
        "  </thead>\n",
        "  <tbody>\n",
        "    <tr>\n",
        "      <th>0</th>\n",
        "      <td>  1</td>\n",
        "      <td> 30</td>\n",
        "      <td> 1</td>\n",
        "    </tr>\n",
        "    <tr>\n",
        "      <th>1</th>\n",
        "      <td>  2</td>\n",
        "      <td> 25</td>\n",
        "      <td> 2</td>\n",
        "    </tr>\n",
        "    <tr>\n",
        "      <th>2</th>\n",
        "      <td>  3</td>\n",
        "      <td> 90</td>\n",
        "      <td> 2</td>\n",
        "    </tr>\n",
        "    <tr>\n",
        "      <th>3</th>\n",
        "      <td>  4</td>\n",
        "      <td>  4</td>\n",
        "      <td> 2</td>\n",
        "    </tr>\n",
        "    <tr>\n",
        "      <th>4</th>\n",
        "      <td>  5</td>\n",
        "      <td> 40</td>\n",
        "      <td> 1</td>\n",
        "    </tr>\n",
        "    <tr>\n",
        "      <th>5</th>\n",
        "      <td>  6</td>\n",
        "      <td> 25</td>\n",
        "      <td> 2</td>\n",
        "    </tr>\n",
        "    <tr>\n",
        "      <th>6</th>\n",
        "      <td> 12</td>\n",
        "      <td>  8</td>\n",
        "      <td> 2</td>\n",
        "    </tr>\n",
        "  </tbody>\n",
        "</table>\n",
        "</div>"
       ],
       "metadata": {},
       "output_type": "pyout",
       "prompt_number": 15,
       "text": [
        "   RID  Age  Sex\n",
        "0    1   30    1\n",
        "1    2   25    2\n",
        "2    3   90    2\n",
        "3    4    4    2\n",
        "4    5   40    1\n",
        "5    6   25    2\n",
        "6   12    8    2"
       ]
      }
     ],
     "prompt_number": 15
    },
    {
     "cell_type": "markdown",
     "metadata": {},
     "source": [
      "Show the number of records in the dataframe using the standard len function:"
     ]
    },
    {
     "cell_type": "code",
     "collapsed": false,
     "input": [
      "len(example_data)"
     ],
     "language": "python",
     "metadata": {},
     "outputs": [
      {
       "metadata": {},
       "output_type": "pyout",
       "prompt_number": 16,
       "text": [
        "6"
       ]
      }
     ],
     "prompt_number": 16
    },
    {
     "cell_type": "markdown",
     "metadata": {},
     "source": [
      "The output of the call to len shows that the dataframe was not modified by the append operation.  Usually, operations on pandas dataframe objects are non-destructive, i.e., operations do not usually overwrite or otherwise change a dataframe unless the result is assigned back to the dataframe:"
     ]
    },
    {
     "cell_type": "code",
     "collapsed": false,
     "input": [
      "example_data = example_data.append({'Age':8, 'RID':12, 'Sex':2}, ignore_index=True)\n",
      "len(example_data)"
     ],
     "language": "python",
     "metadata": {},
     "outputs": [
      {
       "metadata": {},
       "output_type": "pyout",
       "prompt_number": 17,
       "text": [
        "7"
       ]
      }
     ],
     "prompt_number": 17
    },
    {
     "cell_type": "markdown",
     "metadata": {},
     "source": [
      "Now the dataframe contains the appended row.\n",
      "\n",
      "You can also attach new columns to existing data frames:"
     ]
    },
    {
     "cell_type": "code",
     "collapsed": false,
     "input": [
      "example_data['City'] = ['Minneapolis', 'Minneapolis',\n",
      "                        'Boston',      'Chicago',\n",
      "                        'New York',    'Minneapolis',\n",
      "                        'Washington']"
     ],
     "language": "python",
     "metadata": {},
     "outputs": [],
     "prompt_number": 18
    },
    {
     "cell_type": "markdown",
     "metadata": {},
     "source": [
      "Column values get attached to corresponding records in the order in which they were specified:"
     ]
    },
    {
     "cell_type": "code",
     "collapsed": false,
     "input": [
      "example_data"
     ],
     "language": "python",
     "metadata": {},
     "outputs": [
      {
       "html": [
        "<div style=\"max-height:1000px;max-width:1500px;overflow:auto;\">\n",
        "<table border=\"1\" class=\"dataframe\">\n",
        "  <thead>\n",
        "    <tr style=\"text-align: right;\">\n",
        "      <th></th>\n",
        "      <th>RID</th>\n",
        "      <th>Age</th>\n",
        "      <th>Sex</th>\n",
        "      <th>City</th>\n",
        "    </tr>\n",
        "  </thead>\n",
        "  <tbody>\n",
        "    <tr>\n",
        "      <th>0</th>\n",
        "      <td>  1</td>\n",
        "      <td> 30</td>\n",
        "      <td> 1</td>\n",
        "      <td> Minneapolis</td>\n",
        "    </tr>\n",
        "    <tr>\n",
        "      <th>1</th>\n",
        "      <td>  2</td>\n",
        "      <td> 25</td>\n",
        "      <td> 2</td>\n",
        "      <td> Minneapolis</td>\n",
        "    </tr>\n",
        "    <tr>\n",
        "      <th>2</th>\n",
        "      <td>  3</td>\n",
        "      <td> 90</td>\n",
        "      <td> 2</td>\n",
        "      <td>      Boston</td>\n",
        "    </tr>\n",
        "    <tr>\n",
        "      <th>3</th>\n",
        "      <td>  4</td>\n",
        "      <td>  4</td>\n",
        "      <td> 2</td>\n",
        "      <td>     Chicago</td>\n",
        "    </tr>\n",
        "    <tr>\n",
        "      <th>4</th>\n",
        "      <td>  5</td>\n",
        "      <td> 40</td>\n",
        "      <td> 1</td>\n",
        "      <td>    New York</td>\n",
        "    </tr>\n",
        "    <tr>\n",
        "      <th>5</th>\n",
        "      <td>  6</td>\n",
        "      <td> 25</td>\n",
        "      <td> 2</td>\n",
        "      <td> Minneapolis</td>\n",
        "    </tr>\n",
        "    <tr>\n",
        "      <th>6</th>\n",
        "      <td> 12</td>\n",
        "      <td>  8</td>\n",
        "      <td> 2</td>\n",
        "      <td>  Washington</td>\n",
        "    </tr>\n",
        "  </tbody>\n",
        "</table>\n",
        "</div>"
       ],
       "metadata": {},
       "output_type": "pyout",
       "prompt_number": 19,
       "text": [
        "   RID  Age  Sex         City\n",
        "0    1   30    1  Minneapolis\n",
        "1    2   25    2  Minneapolis\n",
        "2    3   90    2       Boston\n",
        "3    4    4    2      Chicago\n",
        "4    5   40    1     New York\n",
        "5    6   25    2  Minneapolis\n",
        "6   12    8    2   Washington"
       ]
      }
     ],
     "prompt_number": 19
    },
    {
     "cell_type": "markdown",
     "metadata": {},
     "source": [
      "Count records by City:"
     ]
    },
    {
     "cell_type": "code",
     "collapsed": false,
     "input": [
      "example_data['City'].value_counts()"
     ],
     "language": "python",
     "metadata": {},
     "outputs": [
      {
       "metadata": {},
       "output_type": "pyout",
       "prompt_number": 20,
       "text": [
        "Minneapolis    3\n",
        "Chicago        1\n",
        "Washington     1\n",
        "New York       1\n",
        "Boston         1\n",
        "dtype: int64"
       ]
      }
     ],
     "prompt_number": 20
    },
    {
     "cell_type": "markdown",
     "metadata": {},
     "source": [
      "Removing data is easy--simply assign to a variable the result of a selection.  The next example shows how to create a dataframe containing only records where the City is Minneapolis:"
     ]
    },
    {
     "cell_type": "code",
     "collapsed": false,
     "input": [
      "minneapolis_data = example_data[example_data['City'] == 'Minneapolis']\n",
      "\n",
      "# Emit the result\n",
      "minneapolis_data"
     ],
     "language": "python",
     "metadata": {},
     "outputs": [
      {
       "html": [
        "<div style=\"max-height:1000px;max-width:1500px;overflow:auto;\">\n",
        "<table border=\"1\" class=\"dataframe\">\n",
        "  <thead>\n",
        "    <tr style=\"text-align: right;\">\n",
        "      <th></th>\n",
        "      <th>RID</th>\n",
        "      <th>Age</th>\n",
        "      <th>Sex</th>\n",
        "      <th>City</th>\n",
        "    </tr>\n",
        "  </thead>\n",
        "  <tbody>\n",
        "    <tr>\n",
        "      <th>0</th>\n",
        "      <td> 1</td>\n",
        "      <td> 30</td>\n",
        "      <td> 1</td>\n",
        "      <td> Minneapolis</td>\n",
        "    </tr>\n",
        "    <tr>\n",
        "      <th>1</th>\n",
        "      <td> 2</td>\n",
        "      <td> 25</td>\n",
        "      <td> 2</td>\n",
        "      <td> Minneapolis</td>\n",
        "    </tr>\n",
        "    <tr>\n",
        "      <th>5</th>\n",
        "      <td> 6</td>\n",
        "      <td> 25</td>\n",
        "      <td> 2</td>\n",
        "      <td> Minneapolis</td>\n",
        "    </tr>\n",
        "  </tbody>\n",
        "</table>\n",
        "</div>"
       ],
       "metadata": {},
       "output_type": "pyout",
       "prompt_number": 21,
       "text": [
        "   RID  Age  Sex         City\n",
        "0    1   30    1  Minneapolis\n",
        "1    2   25    2  Minneapolis\n",
        "5    6   25    2  Minneapolis"
       ]
      }
     ],
     "prompt_number": 21
    },
    {
     "cell_type": "markdown",
     "metadata": {},
     "source": [
      "Recode column values\n",
      "--------------------"
     ]
    },
    {
     "cell_type": "markdown",
     "metadata": {},
     "source": [
      "Recoding is a common data processing task.  Often data in one form (e.g., strings) need to be recoded to a different form (e.g., numeric values) or to a different--usually smaller--range of values to facilitate record keeping or analysis.  The next example shows how to assign numeric codes to the cities attached to the example_data dataframe.\n",
      "\n",
      "Two steps will recode City strings to numeric codes:\n",
      "\n",
      "1. Get unique values of City.\n",
      "2. Create a DataFrame containing the city name and the new code (CIT)."
     ]
    },
    {
     "cell_type": "code",
     "collapsed": false,
     "input": [
      "# 1. Get unique values of City.\n",
      "city_counts = example_data['City'].value_counts()\n",
      "\n",
      "# 2. Create a DataFrame containing the city name and the new code (CIT).\n",
      "city_recode_table = pd.DataFrame(data=zip(city_counts.index, xrange(len(city_counts))), columns=['City', 'CIT'])\n",
      "\n",
      "# Emit the result\n",
      "city_recode_table"
     ],
     "language": "python",
     "metadata": {},
     "outputs": [
      {
       "html": [
        "<div style=\"max-height:1000px;max-width:1500px;overflow:auto;\">\n",
        "<table border=\"1\" class=\"dataframe\">\n",
        "  <thead>\n",
        "    <tr style=\"text-align: right;\">\n",
        "      <th></th>\n",
        "      <th>City</th>\n",
        "      <th>CIT</th>\n",
        "    </tr>\n",
        "  </thead>\n",
        "  <tbody>\n",
        "    <tr>\n",
        "      <th>0</th>\n",
        "      <td> Minneapolis</td>\n",
        "      <td> 0</td>\n",
        "    </tr>\n",
        "    <tr>\n",
        "      <th>1</th>\n",
        "      <td>     Chicago</td>\n",
        "      <td> 1</td>\n",
        "    </tr>\n",
        "    <tr>\n",
        "      <th>2</th>\n",
        "      <td>  Washington</td>\n",
        "      <td> 2</td>\n",
        "    </tr>\n",
        "    <tr>\n",
        "      <th>3</th>\n",
        "      <td>    New York</td>\n",
        "      <td> 3</td>\n",
        "    </tr>\n",
        "    <tr>\n",
        "      <th>4</th>\n",
        "      <td>      Boston</td>\n",
        "      <td> 4</td>\n",
        "    </tr>\n",
        "  </tbody>\n",
        "</table>\n",
        "</div>"
       ],
       "metadata": {},
       "output_type": "pyout",
       "prompt_number": 22,
       "text": [
        "          City  CIT\n",
        "0  Minneapolis    0\n",
        "1      Chicago    1\n",
        "2   Washington    2\n",
        "3     New York    3\n",
        "4       Boston    4"
       ]
      }
     ],
     "prompt_number": 22
    },
    {
     "cell_type": "markdown",
     "metadata": {},
     "source": [
      "The next example shows how a arithmetic operation \"broadcasts\" over the length of the column:"
     ]
    },
    {
     "cell_type": "code",
     "collapsed": false,
     "input": [
      "city_recode_table['CIT'] + 1000"
     ],
     "language": "python",
     "metadata": {},
     "outputs": [
      {
       "metadata": {},
       "output_type": "pyout",
       "prompt_number": 23,
       "text": [
        "0    1000\n",
        "1    1001\n",
        "2    1002\n",
        "3    1003\n",
        "4    1004\n",
        "Name: CIT, dtype: int64"
       ]
      }
     ],
     "prompt_number": 23
    },
    {
     "cell_type": "markdown",
     "metadata": {},
     "source": [
      "Re-base the CIT code so that it starts at 1000:"
     ]
    },
    {
     "cell_type": "code",
     "collapsed": false,
     "input": [
      "city_recode_table['CIT'] = city_recode_table['CIT'] + 1000\n",
      "\n",
      "# Emit the result\n",
      "city_recode_table"
     ],
     "language": "python",
     "metadata": {},
     "outputs": [
      {
       "html": [
        "<div style=\"max-height:1000px;max-width:1500px;overflow:auto;\">\n",
        "<table border=\"1\" class=\"dataframe\">\n",
        "  <thead>\n",
        "    <tr style=\"text-align: right;\">\n",
        "      <th></th>\n",
        "      <th>City</th>\n",
        "      <th>CIT</th>\n",
        "    </tr>\n",
        "  </thead>\n",
        "  <tbody>\n",
        "    <tr>\n",
        "      <th>0</th>\n",
        "      <td> Minneapolis</td>\n",
        "      <td> 1000</td>\n",
        "    </tr>\n",
        "    <tr>\n",
        "      <th>1</th>\n",
        "      <td>     Chicago</td>\n",
        "      <td> 1001</td>\n",
        "    </tr>\n",
        "    <tr>\n",
        "      <th>2</th>\n",
        "      <td>  Washington</td>\n",
        "      <td> 1002</td>\n",
        "    </tr>\n",
        "    <tr>\n",
        "      <th>3</th>\n",
        "      <td>    New York</td>\n",
        "      <td> 1003</td>\n",
        "    </tr>\n",
        "    <tr>\n",
        "      <th>4</th>\n",
        "      <td>      Boston</td>\n",
        "      <td> 1004</td>\n",
        "    </tr>\n",
        "  </tbody>\n",
        "</table>\n",
        "</div>"
       ],
       "metadata": {},
       "output_type": "pyout",
       "prompt_number": 24,
       "text": [
        "          City   CIT\n",
        "0  Minneapolis  1000\n",
        "1      Chicago  1001\n",
        "2   Washington  1002\n",
        "3     New York  1003\n",
        "4       Boston  1004"
       ]
      }
     ],
     "prompt_number": 24
    },
    {
     "cell_type": "markdown",
     "metadata": {},
     "source": [
      "Merge the example data and the recode table:"
     ]
    },
    {
     "cell_type": "code",
     "collapsed": false,
     "input": [
      "example_data.merge(city_recode_table, on='City')"
     ],
     "language": "python",
     "metadata": {},
     "outputs": [
      {
       "html": [
        "<div style=\"max-height:1000px;max-width:1500px;overflow:auto;\">\n",
        "<table border=\"1\" class=\"dataframe\">\n",
        "  <thead>\n",
        "    <tr style=\"text-align: right;\">\n",
        "      <th></th>\n",
        "      <th>RID</th>\n",
        "      <th>Age</th>\n",
        "      <th>Sex</th>\n",
        "      <th>City</th>\n",
        "      <th>CIT</th>\n",
        "    </tr>\n",
        "  </thead>\n",
        "  <tbody>\n",
        "    <tr>\n",
        "      <th>0</th>\n",
        "      <td>  1</td>\n",
        "      <td> 30</td>\n",
        "      <td> 1</td>\n",
        "      <td> Minneapolis</td>\n",
        "      <td> 1000</td>\n",
        "    </tr>\n",
        "    <tr>\n",
        "      <th>1</th>\n",
        "      <td>  2</td>\n",
        "      <td> 25</td>\n",
        "      <td> 2</td>\n",
        "      <td> Minneapolis</td>\n",
        "      <td> 1000</td>\n",
        "    </tr>\n",
        "    <tr>\n",
        "      <th>2</th>\n",
        "      <td>  6</td>\n",
        "      <td> 25</td>\n",
        "      <td> 2</td>\n",
        "      <td> Minneapolis</td>\n",
        "      <td> 1000</td>\n",
        "    </tr>\n",
        "    <tr>\n",
        "      <th>3</th>\n",
        "      <td>  3</td>\n",
        "      <td> 90</td>\n",
        "      <td> 2</td>\n",
        "      <td>      Boston</td>\n",
        "      <td> 1004</td>\n",
        "    </tr>\n",
        "    <tr>\n",
        "      <th>4</th>\n",
        "      <td>  4</td>\n",
        "      <td>  4</td>\n",
        "      <td> 2</td>\n",
        "      <td>     Chicago</td>\n",
        "      <td> 1001</td>\n",
        "    </tr>\n",
        "    <tr>\n",
        "      <th>5</th>\n",
        "      <td>  5</td>\n",
        "      <td> 40</td>\n",
        "      <td> 1</td>\n",
        "      <td>    New York</td>\n",
        "      <td> 1003</td>\n",
        "    </tr>\n",
        "    <tr>\n",
        "      <th>6</th>\n",
        "      <td> 12</td>\n",
        "      <td>  8</td>\n",
        "      <td> 2</td>\n",
        "      <td>  Washington</td>\n",
        "      <td> 1002</td>\n",
        "    </tr>\n",
        "  </tbody>\n",
        "</table>\n",
        "</div>"
       ],
       "metadata": {},
       "output_type": "pyout",
       "prompt_number": 25,
       "text": [
        "   RID  Age  Sex         City   CIT\n",
        "0    1   30    1  Minneapolis  1000\n",
        "1    2   25    2  Minneapolis  1000\n",
        "2    6   25    2  Minneapolis  1000\n",
        "3    3   90    2       Boston  1004\n",
        "4    4    4    2      Chicago  1001\n",
        "5    5   40    1     New York  1003\n",
        "6   12    8    2   Washington  1002"
       ]
      }
     ],
     "prompt_number": 25
    },
    {
     "cell_type": "markdown",
     "metadata": {},
     "source": [
      "Again, because many operations on dataframes are non-destructive, the example_data dataframe was not modified by the merge..."
     ]
    },
    {
     "cell_type": "code",
     "collapsed": false,
     "input": [
      "example_data"
     ],
     "language": "python",
     "metadata": {},
     "outputs": [
      {
       "html": [
        "<div style=\"max-height:1000px;max-width:1500px;overflow:auto;\">\n",
        "<table border=\"1\" class=\"dataframe\">\n",
        "  <thead>\n",
        "    <tr style=\"text-align: right;\">\n",
        "      <th></th>\n",
        "      <th>RID</th>\n",
        "      <th>Age</th>\n",
        "      <th>Sex</th>\n",
        "      <th>City</th>\n",
        "    </tr>\n",
        "  </thead>\n",
        "  <tbody>\n",
        "    <tr>\n",
        "      <th>0</th>\n",
        "      <td>  1</td>\n",
        "      <td> 30</td>\n",
        "      <td> 1</td>\n",
        "      <td> Minneapolis</td>\n",
        "    </tr>\n",
        "    <tr>\n",
        "      <th>1</th>\n",
        "      <td>  2</td>\n",
        "      <td> 25</td>\n",
        "      <td> 2</td>\n",
        "      <td> Minneapolis</td>\n",
        "    </tr>\n",
        "    <tr>\n",
        "      <th>2</th>\n",
        "      <td>  3</td>\n",
        "      <td> 90</td>\n",
        "      <td> 2</td>\n",
        "      <td>      Boston</td>\n",
        "    </tr>\n",
        "    <tr>\n",
        "      <th>3</th>\n",
        "      <td>  4</td>\n",
        "      <td>  4</td>\n",
        "      <td> 2</td>\n",
        "      <td>     Chicago</td>\n",
        "    </tr>\n",
        "    <tr>\n",
        "      <th>4</th>\n",
        "      <td>  5</td>\n",
        "      <td> 40</td>\n",
        "      <td> 1</td>\n",
        "      <td>    New York</td>\n",
        "    </tr>\n",
        "    <tr>\n",
        "      <th>5</th>\n",
        "      <td>  6</td>\n",
        "      <td> 25</td>\n",
        "      <td> 2</td>\n",
        "      <td> Minneapolis</td>\n",
        "    </tr>\n",
        "    <tr>\n",
        "      <th>6</th>\n",
        "      <td> 12</td>\n",
        "      <td>  8</td>\n",
        "      <td> 2</td>\n",
        "      <td>  Washington</td>\n",
        "    </tr>\n",
        "  </tbody>\n",
        "</table>\n",
        "</div>"
       ],
       "metadata": {},
       "output_type": "pyout",
       "prompt_number": 26,
       "text": [
        "   RID  Age  Sex         City\n",
        "0    1   30    1  Minneapolis\n",
        "1    2   25    2  Minneapolis\n",
        "2    3   90    2       Boston\n",
        "3    4    4    2      Chicago\n",
        "4    5   40    1     New York\n",
        "5    6   25    2  Minneapolis\n",
        "6   12    8    2   Washington"
       ]
      }
     ],
     "prompt_number": 26
    },
    {
     "cell_type": "markdown",
     "metadata": {},
     "source": [
      "In order to save the result of the merge, assign it to a variable:"
     ]
    },
    {
     "cell_type": "code",
     "collapsed": false,
     "input": [
      "# Merge, sort the result on RID, and assign to recoded_data\n",
      "recoded_data = example_data.merge(city_recode_table, on='City').sort('RID')\n",
      "\n",
      "# Make the index match the index on the example_data dataframe\n",
      "recoded_data.index = example_data.index\n",
      "\n",
      "# Emit the result\n",
      "recoded_data"
     ],
     "language": "python",
     "metadata": {},
     "outputs": [
      {
       "html": [
        "<div style=\"max-height:1000px;max-width:1500px;overflow:auto;\">\n",
        "<table border=\"1\" class=\"dataframe\">\n",
        "  <thead>\n",
        "    <tr style=\"text-align: right;\">\n",
        "      <th></th>\n",
        "      <th>RID</th>\n",
        "      <th>Age</th>\n",
        "      <th>Sex</th>\n",
        "      <th>City</th>\n",
        "      <th>CIT</th>\n",
        "    </tr>\n",
        "  </thead>\n",
        "  <tbody>\n",
        "    <tr>\n",
        "      <th>0</th>\n",
        "      <td>  1</td>\n",
        "      <td> 30</td>\n",
        "      <td> 1</td>\n",
        "      <td> Minneapolis</td>\n",
        "      <td> 1000</td>\n",
        "    </tr>\n",
        "    <tr>\n",
        "      <th>1</th>\n",
        "      <td>  2</td>\n",
        "      <td> 25</td>\n",
        "      <td> 2</td>\n",
        "      <td> Minneapolis</td>\n",
        "      <td> 1000</td>\n",
        "    </tr>\n",
        "    <tr>\n",
        "      <th>2</th>\n",
        "      <td>  3</td>\n",
        "      <td> 90</td>\n",
        "      <td> 2</td>\n",
        "      <td>      Boston</td>\n",
        "      <td> 1004</td>\n",
        "    </tr>\n",
        "    <tr>\n",
        "      <th>3</th>\n",
        "      <td>  4</td>\n",
        "      <td>  4</td>\n",
        "      <td> 2</td>\n",
        "      <td>     Chicago</td>\n",
        "      <td> 1001</td>\n",
        "    </tr>\n",
        "    <tr>\n",
        "      <th>4</th>\n",
        "      <td>  5</td>\n",
        "      <td> 40</td>\n",
        "      <td> 1</td>\n",
        "      <td>    New York</td>\n",
        "      <td> 1003</td>\n",
        "    </tr>\n",
        "    <tr>\n",
        "      <th>5</th>\n",
        "      <td>  6</td>\n",
        "      <td> 25</td>\n",
        "      <td> 2</td>\n",
        "      <td> Minneapolis</td>\n",
        "      <td> 1000</td>\n",
        "    </tr>\n",
        "    <tr>\n",
        "      <th>6</th>\n",
        "      <td> 12</td>\n",
        "      <td>  8</td>\n",
        "      <td> 2</td>\n",
        "      <td>  Washington</td>\n",
        "      <td> 1002</td>\n",
        "    </tr>\n",
        "  </tbody>\n",
        "</table>\n",
        "</div>"
       ],
       "metadata": {},
       "output_type": "pyout",
       "prompt_number": 27,
       "text": [
        "   RID  Age  Sex         City   CIT\n",
        "0    1   30    1  Minneapolis  1000\n",
        "1    2   25    2  Minneapolis  1000\n",
        "2    3   90    2       Boston  1004\n",
        "3    4    4    2      Chicago  1001\n",
        "4    5   40    1     New York  1003\n",
        "5    6   25    2  Minneapolis  1000\n",
        "6   12    8    2   Washington  1002"
       ]
      }
     ],
     "prompt_number": 27
    },
    {
     "cell_type": "markdown",
     "metadata": {},
     "source": [
      "Recode column values: second example\n",
      "------------------------------------\n",
      "Top code ages so that records with age > 65 are recoded to 65 by applying the following expression:\n",
      "\n",
      "`65 if age > 65 else age`"
     ]
    },
    {
     "cell_type": "markdown",
     "metadata": {},
     "source": [
      "First, check the result of the calculation to ensure it does what we expect:"
     ]
    },
    {
     "cell_type": "code",
     "collapsed": false,
     "input": [
      "example_data['Age'].map(lambda age: 65 if age > 65 else age)"
     ],
     "language": "python",
     "metadata": {},
     "outputs": [
      {
       "metadata": {},
       "output_type": "pyout",
       "prompt_number": 28,
       "text": [
        "0    30\n",
        "1    25\n",
        "2    65\n",
        "3     4\n",
        "4    40\n",
        "5    25\n",
        "6     8\n",
        "Name: Age, dtype: int64"
       ]
      }
     ],
     "prompt_number": 28
    },
    {
     "cell_type": "markdown",
     "metadata": {},
     "source": [
      "It looks good: the record at index 2 has been recoded from 90 to 65.\n",
      "\n",
      "Next, assign the result of the calculation to a new column called 'Top coded age':"
     ]
    },
    {
     "cell_type": "code",
     "collapsed": false,
     "input": [
      "example_data['Top coded age'] = example_data['Age'].map(lambda age: 65 if age > 65 else age)\n",
      "\n",
      "# Emit the result\n",
      "example_data"
     ],
     "language": "python",
     "metadata": {},
     "outputs": [
      {
       "html": [
        "<div style=\"max-height:1000px;max-width:1500px;overflow:auto;\">\n",
        "<table border=\"1\" class=\"dataframe\">\n",
        "  <thead>\n",
        "    <tr style=\"text-align: right;\">\n",
        "      <th></th>\n",
        "      <th>RID</th>\n",
        "      <th>Age</th>\n",
        "      <th>Sex</th>\n",
        "      <th>City</th>\n",
        "      <th>Top coded age</th>\n",
        "    </tr>\n",
        "  </thead>\n",
        "  <tbody>\n",
        "    <tr>\n",
        "      <th>0</th>\n",
        "      <td>  1</td>\n",
        "      <td> 30</td>\n",
        "      <td> 1</td>\n",
        "      <td> Minneapolis</td>\n",
        "      <td> 30</td>\n",
        "    </tr>\n",
        "    <tr>\n",
        "      <th>1</th>\n",
        "      <td>  2</td>\n",
        "      <td> 25</td>\n",
        "      <td> 2</td>\n",
        "      <td> Minneapolis</td>\n",
        "      <td> 25</td>\n",
        "    </tr>\n",
        "    <tr>\n",
        "      <th>2</th>\n",
        "      <td>  3</td>\n",
        "      <td> 90</td>\n",
        "      <td> 2</td>\n",
        "      <td>      Boston</td>\n",
        "      <td> 65</td>\n",
        "    </tr>\n",
        "    <tr>\n",
        "      <th>3</th>\n",
        "      <td>  4</td>\n",
        "      <td>  4</td>\n",
        "      <td> 2</td>\n",
        "      <td>     Chicago</td>\n",
        "      <td>  4</td>\n",
        "    </tr>\n",
        "    <tr>\n",
        "      <th>4</th>\n",
        "      <td>  5</td>\n",
        "      <td> 40</td>\n",
        "      <td> 1</td>\n",
        "      <td>    New York</td>\n",
        "      <td> 40</td>\n",
        "    </tr>\n",
        "    <tr>\n",
        "      <th>5</th>\n",
        "      <td>  6</td>\n",
        "      <td> 25</td>\n",
        "      <td> 2</td>\n",
        "      <td> Minneapolis</td>\n",
        "      <td> 25</td>\n",
        "    </tr>\n",
        "    <tr>\n",
        "      <th>6</th>\n",
        "      <td> 12</td>\n",
        "      <td>  8</td>\n",
        "      <td> 2</td>\n",
        "      <td>  Washington</td>\n",
        "      <td>  8</td>\n",
        "    </tr>\n",
        "  </tbody>\n",
        "</table>\n",
        "</div>"
       ],
       "metadata": {},
       "output_type": "pyout",
       "prompt_number": 29,
       "text": [
        "   RID  Age  Sex         City  Top coded age\n",
        "0    1   30    1  Minneapolis             30\n",
        "1    2   25    2  Minneapolis             25\n",
        "2    3   90    2       Boston             65\n",
        "3    4    4    2      Chicago              4\n",
        "4    5   40    1     New York             40\n",
        "5    6   25    2  Minneapolis             25\n",
        "6   12    8    2   Washington              8"
       ]
      }
     ],
     "prompt_number": 29
    },
    {
     "cell_type": "markdown",
     "metadata": {},
     "source": [
      "Write data\n",
      "----------"
     ]
    },
    {
     "cell_type": "markdown",
     "metadata": {},
     "source": [
      "Writing out a dataframe to a comma-separated values file is straightforward: simply call the to_csv method on the dataframe, passing in a filename as the first argument:"
     ]
    },
    {
     "cell_type": "code",
     "collapsed": false,
     "input": [
      "example_data.to_csv('example_data.csv', index=False)"
     ],
     "language": "python",
     "metadata": {},
     "outputs": [],
     "prompt_number": 30
    },
    {
     "cell_type": "markdown",
     "metadata": {},
     "source": [
      "You can supply additional, named arguments to control how the dataframe is written.  For example, you can change the separator from a comma to a pipe:"
     ]
    },
    {
     "cell_type": "code",
     "collapsed": false,
     "input": [
      "example_data.to_csv('example_data.csv', index=False, sep='|')"
     ],
     "language": "python",
     "metadata": {},
     "outputs": [],
     "prompt_number": 31
    },
    {
     "cell_type": "markdown",
     "metadata": {},
     "source": [
      "Dataframes can be written to other formats; see the [documentation](http://pandas.pydata.org/pandas-docs/stable/api.html) for more information."
     ]
    },
    {
     "cell_type": "markdown",
     "metadata": {},
     "source": [
      "Read data\n",
      "---------"
     ]
    },
    {
     "cell_type": "markdown",
     "metadata": {},
     "source": [
      "Reading in data is equally easy:"
     ]
    },
    {
     "cell_type": "code",
     "collapsed": false,
     "input": [
      "data_read_in_from_file = pd.read_csv('example_data.csv', sep='|')\n",
      "\n",
      "# Emit the result\n",
      "data_read_in_from_file"
     ],
     "language": "python",
     "metadata": {},
     "outputs": [
      {
       "html": [
        "<div style=\"max-height:1000px;max-width:1500px;overflow:auto;\">\n",
        "<table border=\"1\" class=\"dataframe\">\n",
        "  <thead>\n",
        "    <tr style=\"text-align: right;\">\n",
        "      <th></th>\n",
        "      <th>RID</th>\n",
        "      <th>Age</th>\n",
        "      <th>Sex</th>\n",
        "      <th>City</th>\n",
        "      <th>Top coded age</th>\n",
        "    </tr>\n",
        "  </thead>\n",
        "  <tbody>\n",
        "    <tr>\n",
        "      <th>0</th>\n",
        "      <td>  1</td>\n",
        "      <td> 30</td>\n",
        "      <td> 1</td>\n",
        "      <td> Minneapolis</td>\n",
        "      <td> 30</td>\n",
        "    </tr>\n",
        "    <tr>\n",
        "      <th>1</th>\n",
        "      <td>  2</td>\n",
        "      <td> 25</td>\n",
        "      <td> 2</td>\n",
        "      <td> Minneapolis</td>\n",
        "      <td> 25</td>\n",
        "    </tr>\n",
        "    <tr>\n",
        "      <th>2</th>\n",
        "      <td>  3</td>\n",
        "      <td> 90</td>\n",
        "      <td> 2</td>\n",
        "      <td>      Boston</td>\n",
        "      <td> 65</td>\n",
        "    </tr>\n",
        "    <tr>\n",
        "      <th>3</th>\n",
        "      <td>  4</td>\n",
        "      <td>  4</td>\n",
        "      <td> 2</td>\n",
        "      <td>     Chicago</td>\n",
        "      <td>  4</td>\n",
        "    </tr>\n",
        "    <tr>\n",
        "      <th>4</th>\n",
        "      <td>  5</td>\n",
        "      <td> 40</td>\n",
        "      <td> 1</td>\n",
        "      <td>    New York</td>\n",
        "      <td> 40</td>\n",
        "    </tr>\n",
        "    <tr>\n",
        "      <th>5</th>\n",
        "      <td>  6</td>\n",
        "      <td> 25</td>\n",
        "      <td> 2</td>\n",
        "      <td> Minneapolis</td>\n",
        "      <td> 25</td>\n",
        "    </tr>\n",
        "    <tr>\n",
        "      <th>6</th>\n",
        "      <td> 12</td>\n",
        "      <td>  8</td>\n",
        "      <td> 2</td>\n",
        "      <td>  Washington</td>\n",
        "      <td>  8</td>\n",
        "    </tr>\n",
        "  </tbody>\n",
        "</table>\n",
        "</div>"
       ],
       "metadata": {},
       "output_type": "pyout",
       "prompt_number": 32,
       "text": [
        "   RID  Age  Sex         City  Top coded age\n",
        "0    1   30    1  Minneapolis             30\n",
        "1    2   25    2  Minneapolis             25\n",
        "2    3   90    2       Boston             65\n",
        "3    4    4    2      Chicago              4\n",
        "4    5   40    1     New York             40\n",
        "5    6   25    2  Minneapolis             25\n",
        "6   12    8    2   Washington              8"
       ]
      }
     ],
     "prompt_number": 32
    },
    {
     "cell_type": "markdown",
     "metadata": {},
     "source": [
      "See the [documentation](http://pandas.pydata.org/pandas-docs/stable/api.html) for more information about the data formats pandas can read and additional options for reading in data."
     ]
    }
   ],
   "metadata": {}
  }
 ]
}
